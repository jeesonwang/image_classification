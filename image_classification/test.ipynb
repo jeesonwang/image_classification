{
 "cells": [
  {
   "cell_type": "code",
   "execution_count": 23,
   "metadata": {},
   "outputs": [
    {
     "name": "stdout",
     "output_type": "stream",
     "text": [
      "Files already downloaded and verified\n"
     ]
    }
   ],
   "source": [
    "import torch\n",
    "import torchvision.datasets as dset\n",
    "# import torchvision.transforms as transforms\n",
    "import pickle as p\n",
    "import numpy as np\n",
    "import matplotlib.pyplot as plt\n",
    "import matplotlib.image as plimg\n",
    "from PIL import Image\n",
    "\n",
    "d_func = dset.CIFAR100\n",
    "test_set = d_func('data', train=False, download=True)"
   ]
  },
  {
   "cell_type": "code",
   "execution_count": 20,
   "metadata": {},
   "outputs": [],
   "source": [
    "im, l = test_set[13]"
   ]
  },
  {
   "cell_type": "code",
   "execution_count": 21,
   "metadata": {},
   "outputs": [
    {
     "data": {
      "image/png": "[encoded data removed]",
      "text/plain": [
       "<PIL.Image.Image image mode=RGB size=32x32>"
      ]
     },
     "execution_count": 21,
     "metadata": {},
     "output_type": "execute_result"
    }
   ],
   "source": [
    "im"
   ]
  },
  {
   "cell_type": "code",
   "execution_count": 22,
   "metadata": {},
   "outputs": [
    {
     "data": {
      "text/plain": [
       "69"
      ]
     },
     "execution_count": 22,
     "metadata": {},
     "output_type": "execute_result"
    }
   ],
   "source": [
    "l"
   ]
  },
  {
   "cell_type": "code",
   "execution_count": 24,
   "metadata": {},
   "outputs": [],
   "source": [
    "\n",
    "def load_labels_name(filename):\n",
    "    \"\"\"使用pickle反序列化labels文件，得到存储内容\n",
    "        cifar10的label文件为“batches.meta”，cifar100则为“meta”\n",
    "        反序列化之后得到字典对象，可根据key取出相应内容\n",
    "    \"\"\"\n",
    "    with open(filename, 'rb') as f:\n",
    "        obj = p.load(f)\n",
    "    return obj\n"
   ]
  },
  {
   "cell_type": "code",
   "execution_count": 26,
   "metadata": {},
   "outputs": [],
   "source": [
    "names_dic = load_labels_name('data/cifar-100-python/meta')"
   ]
  },
  {
   "cell_type": "code",
   "execution_count": 28,
   "metadata": {},
   "outputs": [
    {
     "data": {
      "text/plain": [
       "{'fine_label_names': ['apple',\n",
       "  'aquarium_fish',\n",
       "  'baby',\n",
       "  'bear',\n",
       "  'beaver',\n",
       "  'bed',\n",
       "  'bee',\n",
       "  'beetle',\n",
       "  'bicycle',\n",
       "  'bottle',\n",
       "  'bowl',\n",
       "  'boy',\n",
       "  'bridge',\n",
       "  'bus',\n",
       "  'butterfly',\n",
       "  'camel',\n",
       "  'can',\n",
       "  'castle',\n",
       "  'caterpillar',\n",
       "  'cattle',\n",
       "  'chair',\n",
       "  'chimpanzee',\n",
       "  'clock',\n",
       "  'cloud',\n",
       "  'cockroach',\n",
       "  'couch',\n",
       "  'crab',\n",
       "  'crocodile',\n",
       "  'cup',\n",
       "  'dinosaur',\n",
       "  'dolphin',\n",
       "  'elephant',\n",
       "  'flatfish',\n",
       "  'forest',\n",
       "  'fox',\n",
       "  'girl',\n",
       "  'hamster',\n",
       "  'house',\n",
       "  'kangaroo',\n",
       "  'keyboard',\n",
       "  'lamp',\n",
       "  'lawn_mower',\n",
       "  'leopard',\n",
       "  'lion',\n",
       "  'lizard',\n",
       "  'lobster',\n",
       "  'man',\n",
       "  'maple_tree',\n",
       "  'motorcycle',\n",
       "  'mountain',\n",
       "  'mouse',\n",
       "  'mushroom',\n",
       "  'oak_tree',\n",
       "  'orange',\n",
       "  'orchid',\n",
       "  'otter',\n",
       "  'palm_tree',\n",
       "  'pear',\n",
       "  'pickup_truck',\n",
       "  'pine_tree',\n",
       "  'plain',\n",
       "  'plate',\n",
       "  'poppy',\n",
       "  'porcupine',\n",
       "  'possum',\n",
       "  'rabbit',\n",
       "  'raccoon',\n",
       "  'ray',\n",
       "  'road',\n",
       "  'rocket',\n",
       "  'rose',\n",
       "  'sea',\n",
       "  'seal',\n",
       "  'shark',\n",
       "  'shrew',\n",
       "  'skunk',\n",
       "  'skyscraper',\n",
       "  'snail',\n",
       "  'snake',\n",
       "  'spider',\n",
       "  'squirrel',\n",
       "  'streetcar',\n",
       "  'sunflower',\n",
       "  'sweet_pepper',\n",
       "  'table',\n",
       "  'tank',\n",
       "  'telephone',\n",
       "  'television',\n",
       "  'tiger',\n",
       "  'tractor',\n",
       "  'train',\n",
       "  'trout',\n",
       "  'tulip',\n",
       "  'turtle',\n",
       "  'wardrobe',\n",
       "  'whale',\n",
       "  'willow_tree',\n",
       "  'wolf',\n",
       "  'woman',\n",
       "  'worm'],\n",
       " 'coarse_label_names': ['aquatic_mammals',\n",
       "  'fish',\n",
       "  'flowers',\n",
       "  'food_containers',\n",
       "  'fruit_and_vegetables',\n",
       "  'household_electrical_devices',\n",
       "  'household_furniture',\n",
       "  'insects',\n",
       "  'large_carnivores',\n",
       "  'large_man-made_outdoor_things',\n",
       "  'large_natural_outdoor_scenes',\n",
       "  'large_omnivores_and_herbivores',\n",
       "  'medium_mammals',\n",
       "  'non-insect_invertebrates',\n",
       "  'people',\n",
       "  'reptiles',\n",
       "  'small_mammals',\n",
       "  'trees',\n",
       "  'vehicles_1',\n",
       "  'vehicles_2']}"
      ]
     },
     "execution_count": 28,
     "metadata": {},
     "output_type": "execute_result"
    }
   ],
   "source": [
    "names_dic"
   ]
  },
  {
   "cell_type": "code",
   "execution_count": 16,
   "metadata": {},
   "outputs": [
    {
     "name": "stdout",
     "output_type": "stream",
     "text": [
      "(10000, 3, 32, 32)\n",
      "正在保存图片:\n",
      "正在保存图片img00.jpg\n",
      "正在保存图片img01.jpg\n",
      "正在保存图片img02.jpg\n",
      "正在保存图片img10.jpg\n",
      "正在保存图片img11.jpg\n",
      "正在保存图片img12.jpg\n",
      "正在保存图片img20.jpg\n",
      "正在保存图片img21.jpg\n",
      "正在保存图片img22.jpg\n",
      "正在保存图片img30.jpg\n",
      "正在保存图片img31.jpg\n",
      "正在保存图片img32.jpg\n",
      "正在保存图片img40.jpg\n",
      "正在保存图片img41.jpg\n",
      "正在保存图片img42.jpg\n",
      "正在保存图片img50.jpg\n",
      "正在保存图片img51.jpg\n",
      "正在保存图片img52.jpg\n",
      "正在保存图片img60.jpg\n",
      "正在保存图片img61.jpg\n",
      "正在保存图片img62.jpg\n",
      "正在保存图片img70.jpg\n",
      "正在保存图片img71.jpg\n",
      "正在保存图片img72.jpg\n",
      "正在保存图片img80.jpg\n",
      "正在保存图片img81.jpg\n",
      "正在保存图片img82.jpg\n",
      "正在保存图片img90.jpg\n",
      "正在保存图片img91.jpg\n",
      "正在保存图片img92.jpg\n",
      "保存完毕.\n"
     ]
    }
   ],
   "source": [
    "\n",
    "def load_CIFAR_batch(filename):\n",
    "    \"\"\" load single batch of cifar \"\"\"\n",
    "    with open(filename, 'rb')as f:\n",
    "        datadict = p.load(f, encoding='bytes')\n",
    "        #X = datadict[b'data']\n",
    "        #Y = datadict[b'labels']\n",
    "        #X = X.reshape(10000, 3, 32, 32)\n",
    "        X = datadict[b'data']\n",
    "        Y = datadict[b'coarse_labels']+datadict[b'fine_labels']\n",
    "        X = X.reshape(-1, 3, 32, 32)\n",
    "        Y = np.array(Y)\n",
    "        return X, Y\n",
    " \n",
    " \n",
    "if __name__ == \"__main__\":\n",
    "    #imgX, imgY = load_CIFAR_batch(\"./cifar-10-batches-py/data_batch_1\")\n",
    "    imgX, imgY = load_CIFAR_batch(\"data/cifar-100-python/test\")\n",
    "    print(imgX.shape)\n",
    "    print(\"正在保存图片:\")\n",
    "    for i in range(imgX.shape[0]):\n",
    "        imgs = imgX[i]\n",
    "        if i < 10:#只循环100张图片,这句注释掉可以便利出所有的图片,图片较多,可能要一定的时间\n",
    "            img0 = imgs[0]\n",
    "            img1 = imgs[1]\n",
    "            img2 = imgs[2]\n",
    "            i0 = Image.fromarray(img0)\n",
    "            i1 = Image.fromarray(img1)\n",
    "            i2 = Image.fromarray(img2)\n",
    "            img = Image.merge(\"RGB\",(i0,i1,i2))\n",
    "            name = \"img\" + str(i)+\".png\"\n",
    "            img.save(\"data/extract-pic1/\"+name,\"png\")#文件夹下是RGB融合后的图像\n",
    "            for j in range(imgs.shape[0]):\n",
    "                img = imgs[j]\n",
    "                name = \"img\" + str(i) + str(j) + \".jpg\"\n",
    "                print(\"正在保存图片\" + name)\n",
    "                plimg.imsave(\"data/extract-pic2/\" + name, img)#文件夹下是RGB分离的图像\n",
    "    print(\"保存完毕.\")"
   ]
  },
  {
   "cell_type": "code",
   "execution_count": 3,
   "metadata": {},
   "outputs": [],
   "source": [
    "from PIL import Image\n",
    "\n",
    "# 打开原始图片\n",
    "original_image = Image.open(\"camel.png\")\n",
    "\n",
    "# 将图片调整为 32x32 像素大小\n",
    "resized_image = original_image.resize((32, 32))\n",
    "\n",
    "# # 保存缩小后的图片\n",
    "resized_image.save(\"resized_image.png\")\n"
   ]
  },
  {
   "cell_type": "code",
   "execution_count": 2,
   "metadata": {},
   "outputs": [
    {
     "data": {
      "image/png": "[encoded data removed]",
      "text/plain": [
       "<PIL.Image.Image image mode=RGB size=32x32>"
      ]
     },
     "execution_count": 2,
     "metadata": {},
     "output_type": "execute_result"
    }
   ],
   "source": [
    "resized_image"
   ]
  },
  {
   "cell_type": "code",
   "execution_count": 7,
   "metadata": {},
   "outputs": [],
   "source": [
    "import torch\n",
    "from models.resnet import createModel\n",
    "from train import Trainer\n",
    "\n",
    "checkpoint = torch.load('save/cifar100-resnet-56/model_best.pth.tar')"
   ]
  },
  {
   "cell_type": "code",
   "execution_count": 9,
   "metadata": {},
   "outputs": [
    {
     "name": "stdout",
     "output_type": "stream",
     "text": [
      "Create ResNet-56 for cifar100\n"
     ]
    },
    {
     "data": {
      "text/plain": [
       "<All keys matched successfully>"
      ]
     },
     "execution_count": 9,
     "metadata": {},
     "output_type": "execute_result"
    }
   ],
   "source": [
    "model = createModel(depth=56, data='cifar100', num_classes=100)\n",
    "model = torch.nn.DataParallel(model).cuda()\n",
    "\n",
    "model.load_state_dict(checkpoint['state_dict'])\n"
   ]
  },
  {
   "cell_type": "code",
   "execution_count": 29,
   "metadata": {},
   "outputs": [],
   "source": [
    "import torchvision.transforms as transforms\n",
    "from PIL import Image\n",
    "\n",
    "\n",
    "def getTestData(image_file, normalized=True):\n",
    "    \n",
    "    original_image = Image.open(image_file)\n",
    "\n",
    "    # 将图片调整为 32x32 像素大小\n",
    "    resized_image = original_image.resize((32, 32))\n",
    "    \n",
    "    normalize = transforms.Normalize(mean=[0.5071, 0.4867, 0.4408],\n",
    "                                        std=[0.2675, 0.2565, 0.2761])\n",
    "        \n",
    "    common_trans = [transforms.ToTensor()]\n",
    "    if normalized:\n",
    "        common_trans.append(normalize)\n",
    "        test_compose = transforms.Compose(common_trans)\n",
    "\n",
    "    input_im = test_compose(resized_image)\n",
    "    \n",
    "    return input_im.unsqueeze(0)\n",
    "\n",
    "\n",
    "def test(test_data, model, topk=5):\n",
    "        model.eval()\n",
    "        with torch.no_grad():\n",
    "            test_data = test_data.cuda()\n",
    "            outputs = model(test_data)\n",
    "            _, pred = outputs.topk(topk, 1, True, True)\n",
    "            pred = pred.t()\n",
    "        return pred.squeeze()"
   ]
  },
  {
   "cell_type": "code",
   "execution_count": 20,
   "metadata": {},
   "outputs": [],
   "source": [
    "input = getTestData('camel.png')"
   ]
  },
  {
   "cell_type": "code",
   "execution_count": 21,
   "metadata": {},
   "outputs": [
    {
     "data": {
      "text/plain": [
       "torch.Size([1, 3, 32, 32])"
      ]
     },
     "execution_count": 21,
     "metadata": {},
     "output_type": "execute_result"
    }
   ],
   "source": [
    "input.size()"
   ]
  },
  {
   "cell_type": "code",
   "execution_count": 25,
   "metadata": {},
   "outputs": [],
   "source": [
    "model.eval()\n",
    "with torch.no_grad():\n",
    "    input = input.cuda()\n",
    "    # targets = targets.cuda()\n",
    "    outputs = model(input)\n",
    "    _, pred = outputs.topk(5, 1, True, True)\n",
    "    pred = pred.t()"
   ]
  },
  {
   "cell_type": "code",
   "execution_count": 28,
   "metadata": {},
   "outputs": [
    {
     "data": {
      "text/plain": [
       "torch.Size([5])"
      ]
     },
     "execution_count": 28,
     "metadata": {},
     "output_type": "execute_result"
    }
   ],
   "source": [
    "pred.squeeze().size()"
   ]
  }
 ],
 "metadata": {
  "kernelspec": {
   "display_name": "wjs",
   "language": "python",
   "name": "python3"
  },
  "language_info": {
   "codemirror_mode": {
    "name": "ipython",
    "version": 3
   },
   "file_extension": ".py",
   "mimetype": "text/x-python",
   "name": "python",
   "nbconvert_exporter": "python",
   "pygments_lexer": "ipython3",
   "version": "3.8.10"
  }
 },
 "nbformat": 4,
 "nbformat_minor": 2
}
